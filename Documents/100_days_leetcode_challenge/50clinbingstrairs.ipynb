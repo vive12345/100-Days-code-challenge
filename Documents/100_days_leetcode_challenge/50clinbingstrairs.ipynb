{
 "cells": [
  {
   "cell_type": "markdown",
   "metadata": {},
   "source": [
    "How many combinations can we make from this? if n = 4 then how many of 1 or 2 can be arrange to make 4 ?"
   ]
  },
  {
   "cell_type": "code",
   "execution_count": 3,
   "metadata": {},
   "outputs": [
    {
     "name": "stdout",
     "output_type": "stream",
     "text": [
      "3\n"
     ]
    }
   ],
   "source": [
    "def climb(n):\n",
    "    if n<=0:\n",
    "        return 1\n",
    "    result = climb(n-2)+climb(n-1)\n",
    "    return result\n",
    "print(climb(2))"
   ]
  },
  {
   "cell_type": "markdown",
   "metadata": {},
   "source": [
    "For the above greddy approach :\n",
    "- TC: O(2^n) due to exponential branching in recursion (each call makes 2 more calls), \n",
    "- SC: O(n) due to recursion stack depth reaching n at maximum path.\n",
    "\n",
    "```                    \n",
    "                    climb(2)\n",
    "                   /        \\\n",
    "            climb(1)        climb(0)\n",
    "           /        \\         |\n",
    "    climb(0)    climb(-1)    1\n",
    "       |           |\n",
    "       1           1\n",
    "       \n",
    "```"
   ]
  },
  {
   "cell_type": "code",
   "execution_count": 1,
   "metadata": {},
   "outputs": [
    {
     "name": "stdout",
     "output_type": "stream",
     "text": [
      "0\n"
     ]
    }
   ],
   "source": [
    "n=3\n",
    "prev = 0\n",
    "prev2=0\n",
    "for i in range(2, n+1):\n",
    "    i = prev +prev2\n",
    "    prev = prev2\n",
    "    prev2 = i\n",
    "print(prev2)\n"
   ]
  }
 ],
 "metadata": {
  "kernelspec": {
   "display_name": "base",
   "language": "python",
   "name": "python3"
  },
  "language_info": {
   "codemirror_mode": {
    "name": "ipython",
    "version": 3
   },
   "file_extension": ".py",
   "mimetype": "text/x-python",
   "name": "python",
   "nbconvert_exporter": "python",
   "pygments_lexer": "ipython3",
   "version": "3.12.7"
  }
 },
 "nbformat": 4,
 "nbformat_minor": 2
}
